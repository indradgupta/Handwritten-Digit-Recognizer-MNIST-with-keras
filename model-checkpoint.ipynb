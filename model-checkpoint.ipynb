{
 "cells": [
  {
   "cell_type": "code",
   "execution_count": 52,
   "metadata": {},
   "outputs": [],
   "source": [
    "import pandas as pd\n",
    "import numpy as np\n",
    "import matplotlib.pyplot as plt\n",
    "import matplotlib.image as mpimg\n",
    "import seaborn as sns"
   ]
  },
  {
   "cell_type": "code",
   "execution_count": 53,
   "metadata": {},
   "outputs": [],
   "source": [
    "X = pd.read_csv('train.csv')\n",
    "test = pd.read_csv('test.csv')"
   ]
  },
  {
   "cell_type": "code",
   "execution_count": 54,
   "metadata": {},
   "outputs": [
    {
     "data": {
      "text/plain": [
       "<matplotlib.axes._subplots.AxesSubplot at 0x26253dcff98>"
      ]
     },
     "execution_count": 54,
     "metadata": {},
     "output_type": "execute_result"
    },
    {
     "data": {
      "image/png": "[encoded data removed]",
      "text/plain": [
       "<Figure size 432x288 with 1 Axes>"
      ]
     },
     "metadata": {
      "needs_background": "light"
     },
     "output_type": "display_data"
    }
   ],
   "source": [
    "Y_train = X['label']\n",
    "X_train = X.drop(labels = ['label'],axis = 1)\n",
    "\n",
    "sns.countplot(Y_train)"
   ]
  },
  {
   "cell_type": "code",
   "execution_count": 55,
   "metadata": {},
   "outputs": [
    {
     "data": {
      "text/plain": [
       "count       784\n",
       "unique        1\n",
       "top       False\n",
       "freq        784\n",
       "dtype: object"
      ]
     },
     "execution_count": 55,
     "metadata": {},
     "output_type": "execute_result"
    }
   ],
   "source": [
    "#missing data\n",
    "X_train.isnull().any().describe()"
   ]
  },
  {
   "cell_type": "code",
   "execution_count": 56,
   "metadata": {},
   "outputs": [
    {
     "data": {
      "text/plain": [
       "count       784\n",
       "unique        1\n",
       "top       False\n",
       "freq        784\n",
       "dtype: object"
      ]
     },
     "execution_count": 56,
     "metadata": {},
     "output_type": "execute_result"
    }
   ],
   "source": [
    "test.isnull().any().describe()"
   ]
  },
  {
   "cell_type": "code",
   "execution_count": 57,
   "metadata": {},
   "outputs": [],
   "source": [
    "#normalize\n",
    "\n",
    "X_train = X_train / 255.0\n",
    "test = test / 255.0"
   ]
  },
  {
   "cell_type": "code",
   "execution_count": 59,
   "metadata": {},
   "outputs": [],
   "source": [
    "# Reshape image in 3 dimensions (height = 28px, width = 28px , canal = 1)\n",
    "X_train = X_train.values.reshape(-1,28,28,1)\n",
    "test = test.values.reshape(-1,28,28,1)"
   ]
  },
  {
   "cell_type": "code",
   "execution_count": 60,
   "metadata": {},
   "outputs": [],
   "source": [
    "#encode the set**\n",
    "from keras.utils.np_utils import to_categorical # convert to one-hot-encoding\n",
    "Y_train = to_categorical(Y_train, num_classes = 10)"
   ]
  },
  {
   "cell_type": "code",
   "execution_count": 61,
   "metadata": {},
   "outputs": [],
   "source": [
    "from sklearn.model_selection import train_test_split\n",
    "X_train, X_val, Y_train, Y_val = train_test_split(X_train, Y_train, test_size = 0.1, random_state=2)"
   ]
  },
  {
   "cell_type": "code",
   "execution_count": 63,
   "metadata": {},
   "outputs": [
    {
     "data": {
      "text/plain": [
       "<matplotlib.image.AxesImage at 0x2624b818cf8>"
      ]
     },
     "execution_count": 63,
     "metadata": {},
     "output_type": "execute_result"
    },
    {
     "data": {
      "image/png": "[encoded data removed]",
      "text/plain": [
       "<Figure size 432x288 with 1 Axes>"
      ]
     },
     "metadata": {
      "needs_background": "light"
     },
     "output_type": "display_data"
    }
   ],
   "source": [
    "#show\n",
    "plt.imshow(X_train[0][:,:,0])"
   ]
  },
  {
   "cell_type": "code",
   "execution_count": 64,
   "metadata": {},
   "outputs": [],
   "source": [
    "from keras.models import Sequential\n",
    "from keras.layers import Dense, Dropout, Flatten, Conv2D, MaxPool2D\n",
    "from keras.optimizers import RMSprop\n",
    "from keras.preprocessing.image import ImageDataGenerator\n",
    "from keras.callbacks import ReduceLROnPlateau"
   ]
  },
  {
   "cell_type": "code",
   "execution_count": 65,
   "metadata": {},
   "outputs": [],
   "source": [
    "model = Sequential()\n",
    "\n",
    "model.add(Conv2D(filters = 32, kernel_size = (5,5),padding = 'Same', \n",
    "                 activation ='relu', input_shape = (28,28,1)))\n",
    "model.add(Conv2D(filters = 32, kernel_size = (5,5),padding = 'Same', \n",
    "                 activation ='relu'))\n",
    "model.add(MaxPool2D(pool_size=(2,2)))\n",
    "model.add(Dropout(0.25))\n",
    "\n",
    "\n",
    "model.add(Conv2D(filters = 64, kernel_size = (3,3),padding = 'Same', \n",
    "                 activation ='relu'))\n",
    "model.add(Conv2D(filters = 64, kernel_size = (3,3),padding = 'Same', \n",
    "                 activation ='relu'))\n",
    "model.add(MaxPool2D(pool_size=(2,2), strides=(2,2)))\n",
    "model.add(Dropout(0.25))\n",
    "\n",
    "\n",
    "model.add(Flatten())\n",
    "model.add(Dense(256, activation = \"relu\"))\n",
    "model.add(Dropout(0.5))\n",
    "model.add(Dense(10, activation = \"softmax\"))"
   ]
  },
  {
   "cell_type": "code",
   "execution_count": 66,
   "metadata": {},
   "outputs": [],
   "source": [
    "model.compile(optimizer = 'adam' , loss = \"categorical_crossentropy\", metrics=[\"accuracy\"])"
   ]
  },
  {
   "cell_type": "code",
   "execution_count": 67,
   "metadata": {},
   "outputs": [],
   "source": [
    "datagen = ImageDataGenerator(\n",
    "        featurewise_center=False,  # set input mean to 0 over the dataset\n",
    "        samplewise_center=False,  # set each sample mean to 0\n",
    "        featurewise_std_normalization=False,  # divide inputs by std of the dataset\n",
    "        samplewise_std_normalization=False,  # divide each input by its std\n",
    "        zca_whitening=False,  # apply ZCA whitening\n",
    "        rotation_range=10,  # randomly rotate images in the range (degrees, 0 to 180)\n",
    "        zoom_range = 0.1, # Randomly zoom image \n",
    "        width_shift_range=0.1,  # randomly shift images horizontally (fraction of total width)\n",
    "        height_shift_range=0.1,  # randomly shift images vertically (fraction of total height)\n",
    "        horizontal_flip=False,  # randomly flip images\n",
    "        vertical_flip=False)  # randomly flip images\n",
    "\n",
    "\n",
    "datagen.fit(X_train)"
   ]
  },
  {
   "cell_type": "code",
   "execution_count": 69,
   "metadata": {},
   "outputs": [
    {
     "name": "stdout",
     "output_type": "stream",
     "text": [
      "Epoch 1/30\n",
      " - 11s - loss: 0.4122 - accuracy: 0.8673 - val_loss: 0.0601 - val_accuracy: 0.9812\n",
      "Epoch 2/30\n",
      " - 6s - loss: 0.1390 - accuracy: 0.9587 - val_loss: 0.0529 - val_accuracy: 0.9860\n",
      "Epoch 3/30\n",
      " - 6s - loss: 0.1037 - accuracy: 0.9690 - val_loss: 0.0319 - val_accuracy: 0.9900\n",
      "Epoch 4/30\n",
      " - 6s - loss: 0.0852 - accuracy: 0.9743 - val_loss: 0.0357 - val_accuracy: 0.9898\n",
      "Epoch 5/30\n",
      " - 6s - loss: 0.0741 - accuracy: 0.9778 - val_loss: 0.0543 - val_accuracy: 0.9843\n",
      "Epoch 6/30\n",
      " - 5s - loss: 0.0686 - accuracy: 0.9798 - val_loss: 0.0244 - val_accuracy: 0.9926\n",
      "Epoch 7/30\n",
      " - 5s - loss: 0.0624 - accuracy: 0.9815 - val_loss: 0.0246 - val_accuracy: 0.9926\n",
      "Epoch 8/30\n",
      " - 6s - loss: 0.0592 - accuracy: 0.9821 - val_loss: 0.0240 - val_accuracy: 0.9919\n",
      "Epoch 9/30\n",
      " - 6s - loss: 0.0591 - accuracy: 0.9832 - val_loss: 0.0319 - val_accuracy: 0.9933\n",
      "Epoch 10/30\n",
      " - 5s - loss: 0.0527 - accuracy: 0.9846 - val_loss: 0.0220 - val_accuracy: 0.9936\n",
      "Epoch 11/30\n",
      " - 6s - loss: 0.0476 - accuracy: 0.9858 - val_loss: 0.0237 - val_accuracy: 0.9929\n",
      "Epoch 12/30\n",
      " - 6s - loss: 0.0470 - accuracy: 0.9865 - val_loss: 0.0183 - val_accuracy: 0.9952\n",
      "Epoch 13/30\n",
      " - 5s - loss: 0.0429 - accuracy: 0.9865 - val_loss: 0.0268 - val_accuracy: 0.9919\n",
      "Epoch 14/30\n",
      " - 6s - loss: 0.0464 - accuracy: 0.9867 - val_loss: 0.0190 - val_accuracy: 0.9943\n",
      "Epoch 15/30\n",
      " - 6s - loss: 0.0434 - accuracy: 0.9880 - val_loss: 0.0323 - val_accuracy: 0.9907\n",
      "Epoch 16/30\n",
      " - 5s - loss: 0.0410 - accuracy: 0.9876 - val_loss: 0.0248 - val_accuracy: 0.9938\n",
      "Epoch 17/30\n",
      " - 6s - loss: 0.0387 - accuracy: 0.9881 - val_loss: 0.0206 - val_accuracy: 0.9948\n",
      "Epoch 18/30\n",
      " - 6s - loss: 0.0413 - accuracy: 0.9879 - val_loss: 0.0193 - val_accuracy: 0.9950\n",
      "Epoch 19/30\n",
      " - 5s - loss: 0.0370 - accuracy: 0.9892 - val_loss: 0.0184 - val_accuracy: 0.9943\n",
      "Epoch 20/30\n",
      " - 6s - loss: 0.0350 - accuracy: 0.9898 - val_loss: 0.0231 - val_accuracy: 0.9938\n",
      "Epoch 21/30\n",
      " - 6s - loss: 0.0377 - accuracy: 0.9894 - val_loss: 0.0194 - val_accuracy: 0.9950\n",
      "Epoch 22/30\n",
      " - 5s - loss: 0.0356 - accuracy: 0.9893 - val_loss: 0.0231 - val_accuracy: 0.9931\n",
      "Epoch 23/30\n",
      " - 6s - loss: 0.0315 - accuracy: 0.9907 - val_loss: 0.0172 - val_accuracy: 0.9960\n",
      "Epoch 24/30\n",
      " - 5s - loss: 0.0326 - accuracy: 0.9901 - val_loss: 0.0177 - val_accuracy: 0.9952\n",
      "Epoch 25/30\n",
      " - 5s - loss: 0.0350 - accuracy: 0.9896 - val_loss: 0.0201 - val_accuracy: 0.9948\n",
      "Epoch 26/30\n",
      " - 6s - loss: 0.0318 - accuracy: 0.9901 - val_loss: 0.0201 - val_accuracy: 0.9948\n",
      "Epoch 27/30\n",
      " - 5s - loss: 0.0307 - accuracy: 0.9909 - val_loss: 0.0171 - val_accuracy: 0.9938\n",
      "Epoch 28/30\n",
      " - 5s - loss: 0.0301 - accuracy: 0.9912 - val_loss: 0.0223 - val_accuracy: 0.9940\n",
      "Epoch 29/30\n",
      " - 6s - loss: 0.0280 - accuracy: 0.9909 - val_loss: 0.0181 - val_accuracy: 0.9948\n",
      "Epoch 30/30\n",
      " - 6s - loss: 0.0317 - accuracy: 0.9910 - val_loss: 0.0148 - val_accuracy: 0.9957\n"
     ]
    }
   ],
   "source": [
    "history = model.fit_generator(datagen.flow(X_train,Y_train, batch_size=86),\n",
    "                              epochs = 30, validation_data = (X_val,Y_val),\n",
    "                              verbose = 2, steps_per_epoch=X_train.shape[0] // 86)"
   ]
  },
  {
   "cell_type": "code",
   "execution_count": 70,
   "metadata": {},
   "outputs": [],
   "source": [
    "model.save(\"d1.h5\")"
   ]
  }
 ],
 "metadata": {
  "kernelspec": {
   "display_name": "Python 3",
   "language": "python",
   "name": "python3"
  },
  "language_info": {
   "codemirror_mode": {
    "name": "ipython",
    "version": 3
   },
   "file_extension": ".py",
   "mimetype": "text/x-python",
   "name": "python",
   "nbconvert_exporter": "python",
   "pygments_lexer": "ipython3",
   "version": "3.6.9"
  }
 },
 "nbformat": 4,
 "nbformat_minor": 2
}
