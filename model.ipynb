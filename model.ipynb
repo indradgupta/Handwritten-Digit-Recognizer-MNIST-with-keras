{
 "cells": [
  {
   "cell_type": "code",
   "execution_count": 1,
   "metadata": {},
   "outputs": [],
   "source": [
    "import pandas as pd\n",
    "import numpy as np\n",
    "import matplotlib.pyplot as plt\n",
    "import matplotlib.image as mpimg\n",
    "import seaborn as sns"
   ]
  },
  {
   "cell_type": "code",
   "execution_count": 16,
   "metadata": {},
   "outputs": [],
   "source": [
    "X = pd.read_csv('train.csv')\n",
    "test = pd.read_csv('test.csv')"
   ]
  },
  {
   "cell_type": "code",
   "execution_count": 13,
   "metadata": {},
   "outputs": [
    {
     "data": {
      "text/plain": [
       "<matplotlib.axes._subplots.AxesSubplot at 0x1cf1a8067b8>"
      ]
     },
     "execution_count": 13,
     "metadata": {},
     "output_type": "execute_result"
    },
    {
     "data": {
      "image/png": "[encoded data removed]",
      "text/plain": [
       "<Figure size 432x288 with 1 Axes>"
      ]
     },
     "metadata": {
      "needs_background": "light"
     },
     "output_type": "display_data"
    }
   ],
   "source": [
    "Y_train = X['label']\n",
    "X_train = X.drop(labels = ['label'],axis = 1)\n",
    "\n",
    "sns.countplot(Y_train)"
   ]
  },
  {
   "cell_type": "code",
   "execution_count": 14,
   "metadata": {},
   "outputs": [
    {
     "data": {
      "text/plain": [
       "count       784\n",
       "unique        1\n",
       "top       False\n",
       "freq        784\n",
       "dtype: object"
      ]
     },
     "execution_count": 14,
     "metadata": {},
     "output_type": "execute_result"
    }
   ],
   "source": [
    "#missing data\n",
    "X_train.isnull().any().describe()"
   ]
  },
  {
   "cell_type": "code",
   "execution_count": 17,
   "metadata": {},
   "outputs": [
    {
     "data": {
      "text/plain": [
       "count       784\n",
       "unique        1\n",
       "top       False\n",
       "freq        784\n",
       "dtype: object"
      ]
     },
     "execution_count": 17,
     "metadata": {},
     "output_type": "execute_result"
    }
   ],
   "source": [
    "test.isnull().any().describe()"
   ]
  },
  {
   "cell_type": "code",
   "execution_count": 20,
   "metadata": {},
   "outputs": [],
   "source": [
    "#normalize\n",
    "\n",
    "X_train = X_train / 255.0\n",
    "test = test / 255.0"
   ]
  },
  {
   "cell_type": "code",
   "execution_count": 21,
   "metadata": {},
   "outputs": [],
   "source": [
    "# Reshape image in 3 dimensions (height = 28px, width = 28px , canal = 1)\n",
    "X_train = X_train.values.reshape(-1,28,28,1)\n",
    "test = test.values.reshape(-1,28,28,1)"
   ]
  },
  {
   "cell_type": "code",
   "execution_count": 22,
   "metadata": {},
   "outputs": [],
   "source": [
    "#encode the set**\n",
    "from keras.utils.np_utils import to_categorical # convert to one-hot-encoding\n",
    "Y_train = to_categorical(Y_train, num_classes = 10)"
   ]
  },
  {
   "cell_type": "code",
   "execution_count": 29,
   "metadata": {},
   "outputs": [],
   "source": [
    "from sklearn.model_selection import train_test_split\n",
    "X_train, X_val, Y_train, Y_val = train_test_split(X_train, Y_train, test_size = 0.1, random_state=2)"
   ]
  },
  {
   "cell_type": "code",
   "execution_count": 30,
   "metadata": {},
   "outputs": [
    {
     "data": {
      "text/plain": [
       "<matplotlib.image.AxesImage at 0x1cf1c59dc18>"
      ]
     },
     "execution_count": 30,
     "metadata": {},
     "output_type": "execute_result"
    },
    {
     "data": {
      "image/png": "[encoded data removed]",
      "text/plain": [
       "<Figure size 432x288 with 1 Axes>"
      ]
     },
     "metadata": {
      "needs_background": "light"
     },
     "output_type": "display_data"
    }
   ],
   "source": [
    "#show\n",
    "plt.imshow(X_train[0][:,:,0])"
   ]
  },
  {
   "cell_type": "code",
   "execution_count": 31,
   "metadata": {},
   "outputs": [],
   "source": [
    "from keras.models import Sequential\n",
    "from keras.layers import Dense, Dropout, Flatten, Conv2D, MaxPool2D\n",
    "from keras.optimizers import RMSprop\n",
    "from keras.preprocessing.image import ImageDataGenerator\n",
    "from keras.callbacks import ReduceLROnPlateau"
   ]
  },
  {
   "cell_type": "code",
   "execution_count": 32,
   "metadata": {},
   "outputs": [],
   "source": [
    "classifier = Sequential()\n",
    "\n",
    "classifier.add(Conv2D(filters = 32, kernel_size = (5,5),padding = 'Same', \n",
    "                 activation ='relu', input_shape = (28,28,1)))\n",
    "classifier.add(Conv2D(filters = 32, kernel_size = (5,5),padding = 'Same', \n",
    "                 activation ='relu'))\n",
    "classifier.add(MaxPool2D(pool_size=(2,2)))\n",
    "classifier.add(Dropout(0.25))\n",
    "\n",
    "\n",
    "classifier.add(Conv2D(filters = 64, kernel_size = (3,3),padding = 'Same', \n",
    "                 activation ='relu'))\n",
    "classifier.add(Conv2D(filters = 64, kernel_size = (3,3),padding = 'Same', \n",
    "                 activation ='relu'))\n",
    "classifier.add(MaxPool2D(pool_size=(2,2), strides=(2,2)))\n",
    "classifier.add(Dropout(0.25))\n",
    "\n",
    "\n",
    "classifier.add(Flatten())\n",
    "classifier.add(Dense(256, activation = \"relu\"))\n",
    "classifier.add(Dropout(0.5))\n",
    "classifier.add(Dense(10, activation = \"softmax\"))"
   ]
  },
  {
   "cell_type": "code",
   "execution_count": 33,
   "metadata": {},
   "outputs": [],
   "source": [
    "classifier.compile(optimizer = 'adam' , loss = \"categorical_crossentropy\", metrics=[\"accuracy\"])"
   ]
  },
  {
   "cell_type": "code",
   "execution_count": 35,
   "metadata": {},
   "outputs": [],
   "source": [
    "datagen = ImageDataGenerator(\n",
    "        featurewise_center=False,  # set input mean to 0 over the dataset\n",
    "        samplewise_center=False,  # set each sample mean to 0\n",
    "        featurewise_std_normalization=False,  # divide inputs by std of the dataset\n",
    "        samplewise_std_normalization=False,  # divide each input by its std\n",
    "        zca_whitening=False,  # apply ZCA whitening\n",
    "        rotation_range=10,  # randomly rotate images in the range (degrees, 0 to 180)\n",
    "        zoom_range = 0.1, # Randomly zoom image \n",
    "        width_shift_range=0.1,  # randomly shift images horizontally (fraction of total width)\n",
    "        height_shift_range=0.1,  # randomly shift images vertically (fraction of total height)\n",
    "        horizontal_flip=False,  # randomly flip images\n",
    "        vertical_flip=False)  # randomly flip images\n",
    "\n",
    "\n",
    "datagen.fit(X_train)"
   ]
  },
  {
   "cell_type": "code",
   "execution_count": 36,
   "metadata": {},
   "outputs": [
    {
     "name": "stdout",
     "output_type": "stream",
     "text": [
      "Epoch 1/30\n",
      " - 9s - loss: 0.5022 - accuracy: 0.8389 - val_loss: 0.0964 - val_accuracy: 0.9713\n",
      "Epoch 2/30\n",
      " - 4s - loss: 0.1588 - accuracy: 0.9530 - val_loss: 0.0614 - val_accuracy: 0.9820\n",
      "Epoch 3/30\n",
      " - 4s - loss: 0.1161 - accuracy: 0.9660 - val_loss: 0.0723 - val_accuracy: 0.9798\n",
      "Epoch 4/30\n",
      " - 4s - loss: 0.0999 - accuracy: 0.9712 - val_loss: 0.0670 - val_accuracy: 0.9791\n",
      "Epoch 5/30\n",
      " - 4s - loss: 0.0857 - accuracy: 0.9743 - val_loss: 0.0432 - val_accuracy: 0.9866\n",
      "Epoch 6/30\n",
      " - 4s - loss: 0.0784 - accuracy: 0.9769 - val_loss: 0.0522 - val_accuracy: 0.9876\n",
      "Epoch 7/30\n",
      " - 4s - loss: 0.0705 - accuracy: 0.9789 - val_loss: 0.0443 - val_accuracy: 0.9889\n",
      "Epoch 8/30\n",
      " - 4s - loss: 0.0632 - accuracy: 0.9806 - val_loss: 0.0442 - val_accuracy: 0.9895\n",
      "Epoch 9/30\n",
      " - 4s - loss: 0.0595 - accuracy: 0.9823 - val_loss: 0.0457 - val_accuracy: 0.9876\n",
      "Epoch 10/30\n",
      " - 4s - loss: 0.0586 - accuracy: 0.9819 - val_loss: 0.0380 - val_accuracy: 0.9889\n",
      "Epoch 11/30\n",
      " - 4s - loss: 0.0545 - accuracy: 0.9837 - val_loss: 0.0372 - val_accuracy: 0.9899\n",
      "Epoch 12/30\n",
      " - 4s - loss: 0.0491 - accuracy: 0.9850 - val_loss: 0.0402 - val_accuracy: 0.9915\n",
      "Epoch 13/30\n",
      " - 4s - loss: 0.0500 - accuracy: 0.9847 - val_loss: 0.0404 - val_accuracy: 0.9889\n",
      "Epoch 14/30\n",
      " - 4s - loss: 0.0463 - accuracy: 0.9858 - val_loss: 0.0397 - val_accuracy: 0.9899\n",
      "Epoch 15/30\n",
      " - 4s - loss: 0.0496 - accuracy: 0.9848 - val_loss: 0.0404 - val_accuracy: 0.9892\n",
      "Epoch 16/30\n",
      " - 4s - loss: 0.0443 - accuracy: 0.9863 - val_loss: 0.0425 - val_accuracy: 0.9892\n",
      "Epoch 17/30\n",
      " - 4s - loss: 0.0411 - accuracy: 0.9884 - val_loss: 0.0416 - val_accuracy: 0.9912\n",
      "Epoch 18/30\n",
      " - 4s - loss: 0.0439 - accuracy: 0.9873 - val_loss: 0.0368 - val_accuracy: 0.9905\n",
      "Epoch 19/30\n",
      " - 4s - loss: 0.0426 - accuracy: 0.9863 - val_loss: 0.0340 - val_accuracy: 0.9899\n",
      "Epoch 20/30\n",
      " - 4s - loss: 0.0401 - accuracy: 0.9884 - val_loss: 0.0369 - val_accuracy: 0.9915\n",
      "Epoch 21/30\n",
      " - 4s - loss: 0.0367 - accuracy: 0.9891 - val_loss: 0.0455 - val_accuracy: 0.9902\n",
      "Epoch 22/30\n",
      " - 4s - loss: 0.0415 - accuracy: 0.9877 - val_loss: 0.0436 - val_accuracy: 0.9902\n",
      "Epoch 23/30\n",
      " - 4s - loss: 0.0340 - accuracy: 0.9896 - val_loss: 0.0366 - val_accuracy: 0.9905\n",
      "Epoch 24/30\n",
      " - 4s - loss: 0.0343 - accuracy: 0.9886 - val_loss: 0.0389 - val_accuracy: 0.9915\n",
      "Epoch 25/30\n",
      " - 4s - loss: 0.0338 - accuracy: 0.9892 - val_loss: 0.0420 - val_accuracy: 0.9895\n",
      "Epoch 26/30\n",
      " - 4s - loss: 0.0319 - accuracy: 0.9902 - val_loss: 0.0425 - val_accuracy: 0.9909\n",
      "Epoch 27/30\n",
      " - 4s - loss: 0.0355 - accuracy: 0.9894 - val_loss: 0.0447 - val_accuracy: 0.9909\n",
      "Epoch 28/30\n",
      " - 4s - loss: 0.0331 - accuracy: 0.9900 - val_loss: 0.0458 - val_accuracy: 0.9902\n",
      "Epoch 29/30\n",
      " - 4s - loss: 0.0323 - accuracy: 0.9898 - val_loss: 0.0467 - val_accuracy: 0.9892\n",
      "Epoch 30/30\n",
      " - 4s - loss: 0.0346 - accuracy: 0.9896 - val_loss: 0.0404 - val_accuracy: 0.9912\n"
     ]
    },
    {
     "data": {
      "text/plain": [
       "<keras.callbacks.callbacks.History at 0x1cf07243208>"
      ]
     },
     "execution_count": 36,
     "metadata": {},
     "output_type": "execute_result"
    }
   ],
   "source": [
    "classifier.fit_generator(datagen.flow(X_train,Y_train, batch_size=86),\n",
    "                              epochs = 30, validation_data = (X_val,Y_val),\n",
    "                              verbose = 2, steps_per_epoch=X_train.shape[0] // 86)"
   ]
  },
  {
   "cell_type": "code",
   "execution_count": 37,
   "metadata": {},
   "outputs": [],
   "source": [
    "classifier.save(\"d1.h5\")"
   ]
  },
  {
   "cell_type": "code",
   "execution_count": null,
   "metadata": {},
   "outputs": [],
   "source": []
  },
  {
   "cell_type": "code",
   "execution_count": null,
   "metadata": {},
   "outputs": [],
   "source": []
  },
  {
   "cell_type": "code",
   "execution_count": null,
   "metadata": {},
   "outputs": [],
   "source": []
  }
 ],
 "metadata": {
  "kernelspec": {
   "display_name": "Python 3",
   "language": "python",
   "name": "python3"
  },
  "language_info": {
   "codemirror_mode": {
    "name": "ipython",
    "version": 3
   },
   "file_extension": ".py",
   "mimetype": "text/x-python",
   "name": "python",
   "nbconvert_exporter": "python",
   "pygments_lexer": "ipython3",
   "version": "3.6.9"
  }
 },
 "nbformat": 4,
 "nbformat_minor": 2
}
